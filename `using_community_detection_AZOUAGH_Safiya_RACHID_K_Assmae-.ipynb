{
 "cells": [
  {
   "cell_type": "markdown",
   "id": "166a1aea",
   "metadata": {},
   "source": [
    "### AZOUAGH Safiya RACHID.K Assmae"
   ]
  },
  {
   "cell_type": "code",
   "execution_count": 2,
   "id": "660a6a1c",
   "metadata": {},
   "outputs": [],
   "source": [
    "from community_detection_assmae_safiya import *\n",
    "from time import time\n"
   ]
  },
  {
   "cell_type": "code",
   "execution_count": 3,
   "id": "d6916c82",
   "metadata": {},
   "outputs": [],
   "source": [
    "list_friends=[\"Alice\", \"Bob\", \"Charlie\", \"Bob\",\"Dominique\", \"Alice\",\"Dominique\",\"Bob\"]"
   ]
  },
  {
   "cell_type": "code",
   "execution_count": 4,
   "id": "59f7c8e8",
   "metadata": {},
   "outputs": [],
   "source": [
    "network=create_network(list_friends)"
   ]
  },
  {
   "cell_type": "markdown",
   "id": "b1467400",
   "metadata": {},
   "source": [
    "### question 2"
   ]
  },
  {
   "cell_type": "markdown",
   "id": "0b5db62a",
   "metadata": {},
   "source": [
    "La fonction dico_reseau a une complexité O(n²), car elle appelle une fonction dans sa fonction et donc à une boucle imbriqué.\n",
    "La fonction create_network a une complexité O(n),cer elle a une seule boucle.\n",
    "Donc la fonction dico_reseau est plus complexe. \n",
    "Et nous pouvons le voir car la fonction dico_reseau prend plus de temps a etre executé que la fonction create_network"
   ]
  },
  {
   "cell_type": "code",
   "execution_count": 5,
   "id": "1d4033d4",
   "metadata": {},
   "outputs": [
    {
     "name": "stdout",
     "output_type": "stream",
     "text": [
      "0.02  ms\n"
     ]
    }
   ],
   "source": [
    "\"\"\"calcul du temps d'execution de la fonction dico_reseau\"\"\"\n",
    "tic=time()\n",
    "i=0\n",
    "while i<500:\n",
    "    dico_reseau(list_friends)\n",
    "    i=i+1\n",
    "tac=time()\n",
    "print(round(1000*(tac-tic)/500,3),\" ms\")\n"
   ]
  },
  {
   "cell_type": "code",
   "execution_count": 6,
   "id": "70ef6107",
   "metadata": {},
   "outputs": [
    {
     "name": "stdout",
     "output_type": "stream",
     "text": [
      "0.013  ms\n"
     ]
    }
   ],
   "source": [
    "\"\"\"calcul du temps d'execution de la fonction create_network\"\"\"\n",
    "tic=time()\n",
    "i=0\n",
    "while i<500:\n",
    "    create_network(list_friends)\n",
    "    i=i+1\n",
    "tac=time()\n",
    "print(round(1000*(tac-tic)/500,3),\" ms\")"
   ]
  },
  {
   "cell_type": "markdown",
   "id": "36046fb2",
   "metadata": {},
   "source": [
    "### question 11"
   ]
  },
  {
   "cell_type": "markdown",
   "id": "7261d132",
   "metadata": {},
   "source": [
    "La fonction find_community_by_decreasing_popularity a une compléxité O(3n) car cette fonction appelle la fonction order_by_decreasing_popularity qui contient deux boucles, et elle appelle la fonction find_community qui a une boucle, donc en tout cette fonction a 3 boucles.\n",
    "la fonction find_community_from_person a une compléxité O(3n), car elle a une boucle, et elle appelle la fonction order_by_decreasing_popularity qui a 2 boucles, donc la fonction a 3 boucles.\n",
    "La complixité des deux fonction est donc similaire, elle diffère selon le prenom utiisé pour la fonction find_community_from_person, plus la personne choisi est populaire plus le temps d'execution sera long.\n",
    "\n"
   ]
  },
  {
   "cell_type": "code",
   "execution_count": 7,
   "id": "a3cf518c",
   "metadata": {},
   "outputs": [
    {
     "name": "stdout",
     "output_type": "stream",
     "text": [
      "0.047  ms\n"
     ]
    }
   ],
   "source": [
    "\"\"\" calcul du temps d'execution de la fonction find_community_by_decreasing_popularity\"\"\"\n",
    "tic=time()\n",
    "i=0\n",
    "while i<500:\n",
    "    find_community_by_decreasing_popularity(network)\n",
    "    i=i+1\n",
    "tac=time()\n",
    "print(round(1000*(tac-tic)/500,3),\" ms\")\n"
   ]
  },
  {
   "cell_type": "code",
   "execution_count": 8,
   "id": "0deb7ac8",
   "metadata": {},
   "outputs": [
    {
     "name": "stdout",
     "output_type": "stream",
     "text": [
      "0.026  ms\n"
     ]
    }
   ],
   "source": [
    "\"\"\"calcul du temps d'execution de la fonction find_community_from_person\"\"\"\n",
    "tic=time()\n",
    "i=0\n",
    "while i<500:\n",
    "    find_community_from_person(network, \"Bob\")\n",
    "    i=i+1\n",
    "tac=time()\n",
    "print(round(1000*(tac-tic)/500,3),\" ms\")"
   ]
  },
  {
   "cell_type": "code",
   "execution_count": null,
   "id": "7b98a69f",
   "metadata": {},
   "outputs": [],
   "source": []
  },
  {
   "cell_type": "code",
   "execution_count": null,
   "id": "e4182aeb",
   "metadata": {},
   "outputs": [],
   "source": []
  }
 ],
 "metadata": {
  "kernelspec": {
   "display_name": "Python 3 (ipykernel)",
   "language": "python",
   "name": "python3"
  },
  "language_info": {
   "codemirror_mode": {
    "name": "ipython",
    "version": 3
   },
   "file_extension": ".py",
   "mimetype": "text/x-python",
   "name": "python",
   "nbconvert_exporter": "python",
   "pygments_lexer": "ipython3",
   "version": "3.9.12"
  }
 },
 "nbformat": 4,
 "nbformat_minor": 5
}
